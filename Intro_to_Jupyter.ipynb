{
 "cells": [
  {
   "cell_type": "markdown",
   "id": "ef3a01bf-1120-467e-8d01-9d1ebb40ce9e",
   "metadata": {},
   "source": [
    "INTRODUCTION TO JUPYTER NOTEBOOK\r\n",
    "Jupyter Notebooks are an interactive computing environment that allow  to create and share documents that contain live code, equations, visualizations, and explanatory text. It is widely used in data science, machine learning, and scientific computing\n",
    "Project Jupyter is a project that develops open-source software, open standards, and services for interactive computing across multiple programming languages.\r\n"
   ]
  },
  {
   "cell_type": "code",
   "execution_count": 3,
   "id": "f2c9d2d0-75d5-4e67-97e3-b84d11758079",
   "metadata": {},
   "outputs": [
    {
     "data": {
      "text/plain": [
       "-1"
      ]
     },
     "execution_count": 3,
     "metadata": {},
     "output_type": "execute_result"
    }
   ],
   "source": [
    "9-10"
   ]
  },
  {
   "cell_type": "markdown",
   "id": "bf808768-af6b-4300-ae24-9377df1ed17c",
   "metadata": {},
   "source": [
    "BASIC MARKDOWN SYNTAX\r\n",
    "**Bold Text**\r\n",
    "_Italic Text_\r\n",
    "`Inline Co\n",
    "e`\r\n"
   ]
  },
  {
   "cell_type": "markdown",
   "id": "34fe3907-1a97-4ecd-9c24-0d3517de5cfb",
   "metadata": {},
   "source": [
    "IMAGES AND LINKS IN MARKDOWN SYNTAX\n",
    "![Python Logo](https://www.python.org/static/community_logos/python-logo-master-v3-TM.png)\n",
    "\n",
    "[Visit Python's Official Website](https://www.python.org/)\n"
   ]
  },
  {
   "cell_type": "markdown",
   "id": "395ad152-b105-428a-a9ae-1e8d8fdb034e",
   "metadata": {},
   "source": [
    "IMAGES AND LINKS IN MARKDOWN SYNTAX\n",
    "![Python Logo](https://www.python.org/static/community_logos/python-logo-master-v3-TM.png)\n",
    "\n",
    "[Visit Python's Official Website](https://www.python.org/)\n"
   ]
  },
  {
   "cell_type": "markdown",
   "id": "5069ac63-24b9-4457-b68e-cce4e6a1c39d",
   "metadata": {},
   "source": [
    "FAVOURITE PROGRAMMING LANGUAGES\r\n",
    "- Python\r\n",
    "- Japt\r",
    "SQL SQL\r\n"
   ]
  },
  {
   "cell_type": "code",
   "execution_count": 5,
   "id": "e181af87-70c8-42a7-91ad-e26813abe108",
   "metadata": {},
   "outputs": [
    {
     "data": {
      "text/plain": [
       "120"
      ]
     },
     "execution_count": 5,
     "metadata": {},
     "output_type": "execute_result"
    }
   ],
   "source": [
    "#funtion to calculate the factorial of any number\n",
    "def factorial(n):\n",
    "    if n == 0:\n",
    "        return 1\n",
    "    else:\n",
    "        return n * factorial(n - 1)#using recursion\n",
    "\n",
    "factorial(5)"
   ]
  },
  {
   "cell_type": "code",
   "execution_count": 7,
   "id": "97bc96d3-0ae9-4d64-8a39-8a84b642aaab",
   "metadata": {},
   "outputs": [
    {
     "data": {
      "text/plain": [
       "3628800"
      ]
     },
     "execution_count": 7,
     "metadata": {},
     "output_type": "execute_result"
    }
   ],
   "source": [
    "#funtion to calculate the factorial of any number\n",
    "def factorial(n):\n",
    "    if n == 0:\n",
    "        return 1\n",
    "    else:\n",
    "        return n * factorial(n - 1)#using recursion\n",
    "\n",
    "factorial(10)#works for any number"
   ]
  },
  {
   "cell_type": "code",
   "execution_count": 2,
   "id": "b01676e1-4e82-4eff-a329-4901e1de3b4c",
   "metadata": {},
   "outputs": [
    {
     "name": "stdout",
     "output_type": "stream",
     "text": [
      "3.9\n"
     ]
    },
    {
     "data": {
      "text/plain": [
       "3.0"
      ]
     },
     "execution_count": 2,
     "metadata": {},
     "output_type": "execute_result"
    }
   ],
   "source": [
    "import numpy as np\n",
    "\n",
    "# Create a list of numbers\n",
    "numbers = [1,2,3,4,3,6,8,3,6,3]\n",
    "\n",
    "# Calculate the mean using NumPy\n",
    "mean_value = np.mean(numbers)\n",
    "median_value=np.median(numbers)\n",
    "print(mean_value)\n",
    "median_value"
   ]
  },
  {
   "cell_type": "code",
   "execution_count": 3,
   "id": "ab8f025a-0418-402b-a81a-ec7d6c5079d2",
   "metadata": {},
   "outputs": [
    {
     "data": {
      "image/png": "[encoded data removed]",
      "text/plain": [
       "<Figure size 640x480 with 1 Axes>"
      ]
     },
     "metadata": {},
     "output_type": "display_data"
    }
   ],
   "source": [
    "import matplotlib.pyplot as plt\n",
    "# Calculate the mean\n",
    "mean_value = np.mean(numbers)\n",
    "\n",
    "# Plot the numbers\n",
    "plt.plot(numbers, marker='o', linestyle='-', color='blue', label='Data Points')\n",
    "\n",
    "# Plot the mean as a horizontal line\n",
    "plt.axhline(y=mean_value, color='red', linestyle='--', label=f'Mean = {mean_value:.2f}')\n",
    "\n",
    "# Add titles and labels\n",
    "plt.title(\"Visualization of Mean Value\")\n",
    "# Display the plot\n",
    "plt.show()\n"
   ]
  },
  {
   "cell_type": "markdown",
   "id": "b2d86ccc-054a-4f69-b737-aae63be0a418",
   "metadata": {},
   "source": [
    "KERNAL\r",
    "A  kernel is a computational engine that executes the code contained in the notebook It can be Switched as per requirement.\r\n"
   ]
  },
  {
   "cell_type": "code",
   "execution_count": null,
   "id": "7e38bbcc-011f-40c4-a14f-0186b3816b92",
   "metadata": {},
   "outputs": [],
   "source": [
    "#creating copy of kernel deleted code\n",
    "print(\"hello r\")"
   ]
  },
  {
   "cell_type": "code",
   "execution_count": null,
   "id": "debe3666-2099-49ec-9329-98c94134faf7",
   "metadata": {},
   "outputs": [],
   "source": []
  }
 ],
 "metadata": {
  "kernelspec": {
   "display_name": "Python 3 (ipykernel)",
   "language": "python",
   "name": "python3"
  },
  "language_info": {
   "codemirror_mode": {
    "name": "ipython",
    "version": 3
   },
   "file_extension": ".py",
   "mimetype": "text/x-python",
   "name": "python",
   "nbconvert_exporter": "python",
   "pygments_lexer": "ipython3",
   "version": "3.11.7"
  }
 },
 "nbformat": 4,
 "nbformat_minor": 5
}
